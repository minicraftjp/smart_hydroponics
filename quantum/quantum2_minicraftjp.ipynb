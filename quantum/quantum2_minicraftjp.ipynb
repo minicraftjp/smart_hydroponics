{
  "nbformat": 4,
  "nbformat_minor": 0,
  "metadata": {
    "colab": {
      "name": "quantum1_minicraftjp.ipynb",
      "provenance": [],
      "collapsed_sections": [],
      "toc_visible": true,
      "authorship_tag": "ABX9TyOiSFGtL/ZcZpWUeZILddSS",
      "include_colab_link": true
    },
    "kernelspec": {
      "name": "python3",
      "display_name": "Python 3"
    },
    "language_info": {
      "name": "python"
    }
  },
  "cells": [
    {
      "cell_type": "markdown",
      "metadata": {
        "id": "view-in-github",
        "colab_type": "text"
      },
      "source": [
        "<a href=\"https://colab.research.google.com/github/minicraftjp/studywithme/blob/main/quantum/quantum2_minicraftjp.ipynb\" target=\"_parent\"><img src=\"https://colab.research.google.com/assets/colab-badge.svg\" alt=\"Open In Colab\"/></a>"
      ]
    },
    {
      "cell_type": "markdown",
      "metadata": {
        "id": "nRoMJ0UscpUf"
      },
      "source": [
        "# Install Python Packages if not done yet!"
      ]
    },
    {
      "cell_type": "code",
      "metadata": {
        "id": "YpfhCJA7uAuK",
        "colab": {
          "base_uri": "https://localhost:8080/"
        },
        "outputId": "eac0e5fd-93a8-4646-95d0-a58c1cde1f80"
      },
      "source": [
        "!pip install qiskit\n",
        "!pip install matplot\n",
        "%pip install pylatexenc"
      ],
      "execution_count": 8,
      "outputs": [
        {
          "output_type": "stream",
          "text": [
            "Requirement already satisfied: qiskit in /usr/local/lib/python3.7/dist-packages (0.16.1)\n",
            "Requirement already satisfied: qiskit-aer==0.4.1 in /usr/local/lib/python3.7/dist-packages (from qiskit) (0.4.1)\n",
            "Requirement already satisfied: qiskit-ignis==0.2.0 in /usr/local/lib/python3.7/dist-packages (from qiskit) (0.2.0)\n",
            "Requirement already satisfied: qiskit-aqua==0.6.4 in /usr/local/lib/python3.7/dist-packages (from qiskit) (0.6.4)\n",
            "Requirement already satisfied: qiskit-ibmq-provider==0.5.0 in /usr/local/lib/python3.7/dist-packages (from qiskit) (0.5.0)\n",
            "Requirement already satisfied: qiskit-terra==0.12.0 in /usr/local/lib/python3.7/dist-packages (from qiskit) (0.12.0)\n",
            "Requirement already satisfied: pybind11>=2.4 in /usr/local/lib/python3.7/dist-packages (from qiskit-aer==0.4.1->qiskit) (2.6.2)\n",
            "Requirement already satisfied: scipy>=1.0 in /usr/local/lib/python3.7/dist-packages (from qiskit-aer==0.4.1->qiskit) (1.4.1)\n",
            "Requirement already satisfied: cython>=0.27.1 in /usr/local/lib/python3.7/dist-packages (from qiskit-aer==0.4.1->qiskit) (0.29.23)\n",
            "Requirement already satisfied: numpy>=1.16.3 in /usr/local/lib/python3.7/dist-packages (from qiskit-aer==0.4.1->qiskit) (1.19.5)\n",
            "Requirement already satisfied: setuptools>=40.1.0 in /usr/local/lib/python3.7/dist-packages (from qiskit-ignis==0.2.0->qiskit) (56.1.0)\n",
            "Requirement already satisfied: cvxopt; python_version < \"3.8\" or sys_platform != \"win32\" in /usr/local/lib/python3.7/dist-packages (from qiskit-aqua==0.6.4->qiskit) (1.2.6)\n",
            "Requirement already satisfied: networkx>=2.2 in /usr/local/lib/python3.7/dist-packages (from qiskit-aqua==0.6.4->qiskit) (2.5.1)\n",
            "Requirement already satisfied: docplex in /usr/local/lib/python3.7/dist-packages (from qiskit-aqua==0.6.4->qiskit) (2.20.204)\n",
            "Requirement already satisfied: scikit-learn>=0.20.0 in /usr/local/lib/python3.7/dist-packages (from qiskit-aqua==0.6.4->qiskit) (0.22.2.post1)\n",
            "Requirement already satisfied: fastdtw in /usr/local/lib/python3.7/dist-packages (from qiskit-aqua==0.6.4->qiskit) (0.3.4)\n",
            "Requirement already satisfied: pyscf; sys_platform == \"linux\" or (python_version < \"3.8\" and sys_platform != \"win32\") in /usr/local/lib/python3.7/dist-packages (from qiskit-aqua==0.6.4->qiskit) (1.7.6.post1)\n",
            "Requirement already satisfied: h5py in /usr/local/lib/python3.7/dist-packages (from qiskit-aqua==0.6.4->qiskit) (3.1.0)\n",
            "Requirement already satisfied: sympy>=1.3 in /usr/local/lib/python3.7/dist-packages (from qiskit-aqua==0.6.4->qiskit) (1.7.1)\n",
            "Requirement already satisfied: quandl in /usr/local/lib/python3.7/dist-packages (from qiskit-aqua==0.6.4->qiskit) (3.6.0)\n",
            "Requirement already satisfied: jsonschema>=2.6 in /usr/local/lib/python3.7/dist-packages (from qiskit-aqua==0.6.4->qiskit) (2.6.0)\n",
            "Requirement already satisfied: dlx in /usr/local/lib/python3.7/dist-packages (from qiskit-aqua==0.6.4->qiskit) (1.0.4)\n",
            "Requirement already satisfied: psutil>=5 in /usr/local/lib/python3.7/dist-packages (from qiskit-aqua==0.6.4->qiskit) (5.4.8)\n",
            "Requirement already satisfied: requests-ntlm>=1.1.0 in /usr/local/lib/python3.7/dist-packages (from qiskit-ibmq-provider==0.5.0->qiskit) (1.1.0)\n",
            "Requirement already satisfied: nest-asyncio!=1.1.0,>=1.0.0 in /usr/local/lib/python3.7/dist-packages (from qiskit-ibmq-provider==0.5.0->qiskit) (1.5.1)\n",
            "Requirement already satisfied: websockets<8,>=7 in /usr/local/lib/python3.7/dist-packages (from qiskit-ibmq-provider==0.5.0->qiskit) (7.0)\n",
            "Requirement already satisfied: arrow>=0.15.5 in /usr/local/lib/python3.7/dist-packages (from qiskit-ibmq-provider==0.5.0->qiskit) (1.1.0)\n",
            "Requirement already satisfied: requests>=2.19 in /usr/local/lib/python3.7/dist-packages (from qiskit-ibmq-provider==0.5.0->qiskit) (2.23.0)\n",
            "Requirement already satisfied: ply>=3.10 in /usr/local/lib/python3.7/dist-packages (from qiskit-terra==0.12.0->qiskit) (3.11)\n",
            "Requirement already satisfied: dill>=0.3 in /usr/local/lib/python3.7/dist-packages (from qiskit-terra==0.12.0->qiskit) (0.3.3)\n",
            "Requirement already satisfied: marshmallow<4,>=3 in /usr/local/lib/python3.7/dist-packages (from qiskit-terra==0.12.0->qiskit) (3.12.1)\n",
            "Requirement already satisfied: marshmallow-polyfield<6,>=5.7 in /usr/local/lib/python3.7/dist-packages (from qiskit-terra==0.12.0->qiskit) (5.10)\n",
            "Requirement already satisfied: decorator<5,>=4.3 in /usr/local/lib/python3.7/dist-packages (from networkx>=2.2->qiskit-aqua==0.6.4->qiskit) (4.4.2)\n",
            "Requirement already satisfied: six in /usr/local/lib/python3.7/dist-packages (from docplex->qiskit-aqua==0.6.4->qiskit) (1.15.0)\n",
            "Requirement already satisfied: joblib>=0.11 in /usr/local/lib/python3.7/dist-packages (from scikit-learn>=0.20.0->qiskit-aqua==0.6.4->qiskit) (1.0.1)\n",
            "Requirement already satisfied: cached-property; python_version < \"3.8\" in /usr/local/lib/python3.7/dist-packages (from h5py->qiskit-aqua==0.6.4->qiskit) (1.5.2)\n",
            "Requirement already satisfied: mpmath>=0.19 in /usr/local/lib/python3.7/dist-packages (from sympy>=1.3->qiskit-aqua==0.6.4->qiskit) (1.2.1)\n",
            "Requirement already satisfied: python-dateutil in /usr/local/lib/python3.7/dist-packages (from quandl->qiskit-aqua==0.6.4->qiskit) (2.8.1)\n",
            "Requirement already satisfied: pandas>=0.14 in /usr/local/lib/python3.7/dist-packages (from quandl->qiskit-aqua==0.6.4->qiskit) (1.1.5)\n",
            "Requirement already satisfied: more-itertools in /usr/local/lib/python3.7/dist-packages (from quandl->qiskit-aqua==0.6.4->qiskit) (8.7.0)\n",
            "Requirement already satisfied: inflection>=0.3.1 in /usr/local/lib/python3.7/dist-packages (from quandl->qiskit-aqua==0.6.4->qiskit) (0.5.1)\n",
            "Requirement already satisfied: cryptography>=1.3 in /usr/local/lib/python3.7/dist-packages (from requests-ntlm>=1.1.0->qiskit-ibmq-provider==0.5.0->qiskit) (3.4.7)\n",
            "Requirement already satisfied: ntlm-auth>=1.0.2 in /usr/local/lib/python3.7/dist-packages (from requests-ntlm>=1.1.0->qiskit-ibmq-provider==0.5.0->qiskit) (1.5.0)\n",
            "Requirement already satisfied: typing-extensions; python_version < \"3.8\" in /usr/local/lib/python3.7/dist-packages (from arrow>=0.15.5->qiskit-ibmq-provider==0.5.0->qiskit) (3.7.4.3)\n",
            "Requirement already satisfied: idna<3,>=2.5 in /usr/local/lib/python3.7/dist-packages (from requests>=2.19->qiskit-ibmq-provider==0.5.0->qiskit) (2.10)\n",
            "Requirement already satisfied: certifi>=2017.4.17 in /usr/local/lib/python3.7/dist-packages (from requests>=2.19->qiskit-ibmq-provider==0.5.0->qiskit) (2020.12.5)\n",
            "Requirement already satisfied: urllib3!=1.25.0,!=1.25.1,<1.26,>=1.21.1 in /usr/local/lib/python3.7/dist-packages (from requests>=2.19->qiskit-ibmq-provider==0.5.0->qiskit) (1.24.3)\n",
            "Requirement already satisfied: chardet<4,>=3.0.2 in /usr/local/lib/python3.7/dist-packages (from requests>=2.19->qiskit-ibmq-provider==0.5.0->qiskit) (3.0.4)\n",
            "Requirement already satisfied: pytz>=2017.2 in /usr/local/lib/python3.7/dist-packages (from pandas>=0.14->quandl->qiskit-aqua==0.6.4->qiskit) (2018.9)\n",
            "Requirement already satisfied: cffi>=1.12 in /usr/local/lib/python3.7/dist-packages (from cryptography>=1.3->requests-ntlm>=1.1.0->qiskit-ibmq-provider==0.5.0->qiskit) (1.14.5)\n",
            "Requirement already satisfied: pycparser in /usr/local/lib/python3.7/dist-packages (from cffi>=1.12->cryptography>=1.3->requests-ntlm>=1.1.0->qiskit-ibmq-provider==0.5.0->qiskit) (2.20)\n",
            "Requirement already satisfied: matplot in /usr/local/lib/python3.7/dist-packages (0.1.9)\n",
            "Requirement already satisfied: pyloco>=0.0.134 in /usr/local/lib/python3.7/dist-packages (from matplot) (0.0.139)\n",
            "Requirement already satisfied: matplotlib>=3.1.1 in /usr/local/lib/python3.7/dist-packages (from matplot) (3.2.2)\n",
            "Requirement already satisfied: websocket-client in /usr/local/lib/python3.7/dist-packages (from pyloco>=0.0.134->matplot) (1.0.1)\n",
            "Requirement already satisfied: SimpleWebSocketServer in /usr/local/lib/python3.7/dist-packages (from pyloco>=0.0.134->matplot) (0.1.1)\n",
            "Requirement already satisfied: ushlex in /usr/local/lib/python3.7/dist-packages (from pyloco>=0.0.134->matplot) (0.99.1)\n",
            "Requirement already satisfied: typing in /usr/local/lib/python3.7/dist-packages (from pyloco>=0.0.134->matplot) (3.7.4.3)\n",
            "Requirement already satisfied: twine in /usr/local/lib/python3.7/dist-packages (from pyloco>=0.0.134->matplot) (3.4.1)\n",
            "Requirement already satisfied: numpy>=1.11 in /usr/local/lib/python3.7/dist-packages (from matplotlib>=3.1.1->matplot) (1.19.5)\n",
            "Requirement already satisfied: pyparsing!=2.0.4,!=2.1.2,!=2.1.6,>=2.0.1 in /usr/local/lib/python3.7/dist-packages (from matplotlib>=3.1.1->matplot) (2.4.7)\n",
            "Requirement already satisfied: cycler>=0.10 in /usr/local/lib/python3.7/dist-packages (from matplotlib>=3.1.1->matplot) (0.10.0)\n",
            "Requirement already satisfied: kiwisolver>=1.0.1 in /usr/local/lib/python3.7/dist-packages (from matplotlib>=3.1.1->matplot) (1.3.1)\n",
            "Requirement already satisfied: python-dateutil>=2.1 in /usr/local/lib/python3.7/dist-packages (from matplotlib>=3.1.1->matplot) (2.8.1)\n",
            "Requirement already satisfied: requests>=2.20 in /usr/local/lib/python3.7/dist-packages (from twine->pyloco>=0.0.134->matplot) (2.23.0)\n",
            "Requirement already satisfied: tqdm>=4.14 in /usr/local/lib/python3.7/dist-packages (from twine->pyloco>=0.0.134->matplot) (4.41.1)\n",
            "Requirement already satisfied: importlib-metadata>=3.6 in /usr/local/lib/python3.7/dist-packages (from twine->pyloco>=0.0.134->matplot) (4.0.1)\n",
            "Requirement already satisfied: pkginfo>=1.4.2 in /usr/local/lib/python3.7/dist-packages (from twine->pyloco>=0.0.134->matplot) (1.7.0)\n",
            "Requirement already satisfied: colorama>=0.4.3 in /usr/local/lib/python3.7/dist-packages (from twine->pyloco>=0.0.134->matplot) (0.4.4)\n",
            "Requirement already satisfied: keyring>=15.1 in /usr/local/lib/python3.7/dist-packages (from twine->pyloco>=0.0.134->matplot) (23.0.1)\n",
            "Requirement already satisfied: rfc3986>=1.4.0 in /usr/local/lib/python3.7/dist-packages (from twine->pyloco>=0.0.134->matplot) (1.5.0)\n",
            "Requirement already satisfied: readme-renderer>=21.0 in /usr/local/lib/python3.7/dist-packages (from twine->pyloco>=0.0.134->matplot) (29.0)\n",
            "Requirement already satisfied: requests-toolbelt!=0.9.0,>=0.8.0 in /usr/local/lib/python3.7/dist-packages (from twine->pyloco>=0.0.134->matplot) (0.9.1)\n",
            "Requirement already satisfied: six in /usr/local/lib/python3.7/dist-packages (from cycler>=0.10->matplotlib>=3.1.1->matplot) (1.15.0)\n",
            "Requirement already satisfied: urllib3!=1.25.0,!=1.25.1,<1.26,>=1.21.1 in /usr/local/lib/python3.7/dist-packages (from requests>=2.20->twine->pyloco>=0.0.134->matplot) (1.24.3)\n",
            "Requirement already satisfied: certifi>=2017.4.17 in /usr/local/lib/python3.7/dist-packages (from requests>=2.20->twine->pyloco>=0.0.134->matplot) (2020.12.5)\n",
            "Requirement already satisfied: chardet<4,>=3.0.2 in /usr/local/lib/python3.7/dist-packages (from requests>=2.20->twine->pyloco>=0.0.134->matplot) (3.0.4)\n",
            "Requirement already satisfied: idna<3,>=2.5 in /usr/local/lib/python3.7/dist-packages (from requests>=2.20->twine->pyloco>=0.0.134->matplot) (2.10)\n",
            "Requirement already satisfied: zipp>=0.5 in /usr/local/lib/python3.7/dist-packages (from importlib-metadata>=3.6->twine->pyloco>=0.0.134->matplot) (3.4.1)\n",
            "Requirement already satisfied: typing-extensions>=3.6.4; python_version < \"3.8\" in /usr/local/lib/python3.7/dist-packages (from importlib-metadata>=3.6->twine->pyloco>=0.0.134->matplot) (3.7.4.3)\n",
            "Requirement already satisfied: jeepney>=0.4.2; sys_platform == \"linux\" in /usr/local/lib/python3.7/dist-packages (from keyring>=15.1->twine->pyloco>=0.0.134->matplot) (0.6.0)\n",
            "Requirement already satisfied: SecretStorage>=3.2; sys_platform == \"linux\" in /usr/local/lib/python3.7/dist-packages (from keyring>=15.1->twine->pyloco>=0.0.134->matplot) (3.3.1)\n",
            "Requirement already satisfied: Pygments>=2.5.1 in /usr/local/lib/python3.7/dist-packages (from readme-renderer>=21.0->twine->pyloco>=0.0.134->matplot) (2.6.1)\n",
            "Requirement already satisfied: docutils>=0.13.1 in /usr/local/lib/python3.7/dist-packages (from readme-renderer>=21.0->twine->pyloco>=0.0.134->matplot) (0.17.1)\n",
            "Requirement already satisfied: bleach>=2.1.0 in /usr/local/lib/python3.7/dist-packages (from readme-renderer>=21.0->twine->pyloco>=0.0.134->matplot) (3.3.0)\n",
            "Requirement already satisfied: cryptography>=2.0 in /usr/local/lib/python3.7/dist-packages (from SecretStorage>=3.2; sys_platform == \"linux\"->keyring>=15.1->twine->pyloco>=0.0.134->matplot) (3.4.7)\n",
            "Requirement already satisfied: webencodings in /usr/local/lib/python3.7/dist-packages (from bleach>=2.1.0->readme-renderer>=21.0->twine->pyloco>=0.0.134->matplot) (0.5.1)\n",
            "Requirement already satisfied: packaging in /usr/local/lib/python3.7/dist-packages (from bleach>=2.1.0->readme-renderer>=21.0->twine->pyloco>=0.0.134->matplot) (20.9)\n",
            "Requirement already satisfied: cffi>=1.12 in /usr/local/lib/python3.7/dist-packages (from cryptography>=2.0->SecretStorage>=3.2; sys_platform == \"linux\"->keyring>=15.1->twine->pyloco>=0.0.134->matplot) (1.14.5)\n",
            "Requirement already satisfied: pycparser in /usr/local/lib/python3.7/dist-packages (from cffi>=1.12->cryptography>=2.0->SecretStorage>=3.2; sys_platform == \"linux\"->keyring>=15.1->twine->pyloco>=0.0.134->matplot) (2.20)\n",
            "Requirement already satisfied: pylatexenc in /usr/local/lib/python3.7/dist-packages (2.10)\n"
          ],
          "name": "stdout"
        }
      ]
    },
    {
      "cell_type": "markdown",
      "metadata": {
        "id": "flZ7H5Lz56wO"
      },
      "source": [
        "#Import Packages"
      ]
    },
    {
      "cell_type": "code",
      "metadata": {
        "id": "0FWh8T3y5-QE"
      },
      "source": [
        "from qiskit import QuantumCircuit, assemble, execute, Aer\n",
        "from qiskit.visualization import plot_histogram, plot_bloch_vector\n",
        "import matplotlib as mpl\n",
        "import matplotlib.pyplot as plt\n",
        "plt.style.use('classic')"
      ],
      "execution_count": 13,
      "outputs": []
    },
    {
      "cell_type": "markdown",
      "metadata": {
        "id": "WevStOaWc7v6"
      },
      "source": [
        "#Plot Bloch Sphere in Vector Format\n",
        "*  In this example, Vector (x,y,z) = ([0,1,0])\n",
        "\n",
        "\n"
      ]
    },
    {
      "cell_type": "code",
      "metadata": {
        "id": "taSZDELnereQ",
        "colab": {
          "base_uri": "https://localhost:8080/",
          "height": 190
        },
        "outputId": "420f8579-fa05-4015-ddd7-1760db8e1dd4"
      },
      "source": [
        "circuit = QuantumCircuit(2, 2)\n",
        "# Add a Hadamard Gate on Qubit 0\n",
        "circuit.h(0)\n",
        "# Add a CNOT gate on control qubit 0 with target qubit 1:\n",
        "circuit.cx(0, 1)\n",
        "circuit.measure([0, 1], [0, 1])\n",
        "%matplotlib inline\n",
        "circuit.draw('mpl')"
      ],
      "execution_count": 20,
      "outputs": [
        {
          "output_type": "execute_result",
          "data": {
            "image/png": "[encoded data removed]",
            "text/plain": [
              "<Figure size 418.992x204.68 with 1 Axes>"
            ]
          },
          "metadata": {
            "tags": []
          },
          "execution_count": 20
        }
      ]
    },
    {
      "cell_type": "markdown",
      "metadata": {
        "id": "i7LZEC_UvH78"
      },
      "source": [
        ""
      ]
    },
    {
      "cell_type": "code",
      "metadata": {
        "id": "EnGSdzEVvKI1",
        "outputId": "1867850a-91cc-4b49-87a5-28ccf4c6ecbf",
        "colab": {
          "base_uri": "https://localhost:8080/",
          "height": 273
        }
      },
      "source": [
        "# Simulation\n",
        "simulator = Aer.get_backend('statevector_simulator')\n",
        "job = execute(circuit, simulator, shots=10000)\n",
        "result = job.result()\n",
        "counts = result.get_counts(circuit)\n",
        "plot_histogram(counts)\n",
        "plt.plot()\n",
        "plt.show()"
      ],
      "execution_count": 18,
      "outputs": [
        {
          "output_type": "display_data",
          "data": {
            "image/png": "[encoded data removed]",
            "text/plain": [
              "<Figure size 432x288 with 1 Axes>"
            ]
          },
          "metadata": {
            "tags": [],
            "needs_background": "light"
          }
        }
      ]
    }
  ]
}